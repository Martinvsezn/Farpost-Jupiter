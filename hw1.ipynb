{
 "cells": [
  {
   "metadata": {},
   "cell_type": "markdown",
   "source": [
    "\n",
    "Given a file containing text. Complete using only default collections:\n",
    "\n",
    "    1) Find 10 longest words consisting from largest amount of unique symbols\n",
    "    \n",
    "    2) Find rarest symbol for document\n",
    "    \n",
    "    3) Count every punctuation char\n",
    "    \n",
    "    4) Count every non ascii char\n",
    "    \n",
    "    5) Find most common non ascii char for document"
   ],
   "id": "4304d888a11b52cd"
  },
  {
   "cell_type": "code",
   "id": "initial_id",
   "metadata": {
    "collapsed": true,
    "ExecuteTime": {
     "end_time": "2025-03-21T07:38:42.961061Z",
     "start_time": "2025-03-21T07:38:42.947047Z"
    }
   },
   "source": [
    "from typing import List\n",
    "from collections import Counter\n",
    "import re\n",
    "\n",
    "def get_longest_diverse_words(file_path: str) -> List[str]:\n",
    "    text = open(file_path)\n",
    "    longest_words_counter = Counter()\n",
    "    return_list = []\n",
    "    for line in text:\n",
    "        longest_words_counter.update(re.split(r'[— .,!?:;-]', line))\n",
    "    return sorted(longest_words_counter, key=len, reverse = True)[:10]\n",
    "\n",
    "def get_rarest_char(file_path: str) -> str:\n",
    "    text = open(file_path)\n",
    "    letter_by_counter = Counter()\n",
    "    \n",
    "    for line in text:\n",
    "        for character in line:\n",
    "            letter_by_counter.update(character)\n",
    "    return min(letter_by_counter, key=letter_by_counter.get)\n",
    "\n",
    "def count_punctuation_chars(file_path: str) -> int:\n",
    "    text = open(file_path)\n",
    "    punctuation_by_counter = 0\n",
    "    for line in text:\n",
    "        for character in line:\n",
    "            if character in ['.', ',', '!', '?', ':', ';', '-']:\n",
    "                punctuation_by_counter += 1\n",
    "    return punctuation_by_counter\n",
    "\n",
    "\n",
    "def count_non_ascii_chars(file_path: str) -> int:\n",
    "    text = open(file_path)\n",
    "    non_ascii_chars_by_counter = 0\n",
    "    for line in text:\n",
    "        non_ascii_chars_by_counter += len(re.findall(r'\\\\u00..', line))\n",
    "    return non_ascii_chars_by_counter\n",
    "\n",
    "def get_most_common_non_ascii_char(file_path: str) -> str:\n",
    "    text = open(file_path)\n",
    "    non_ascii_char_by_counter = Counter()\n",
    "    for line in text:\n",
    "        non_ascii_char_by_counter.update(re.findall(r'\\\\u00..', line))\n",
    "    return max(non_ascii_char_by_counter, key=non_ascii_char_by_counter.get)\n",
    "    "
   ],
   "outputs": [],
   "execution_count": 84
  },
  {
   "metadata": {
    "ExecuteTime": {
     "end_time": "2025-03-21T06:33:30.396204Z",
     "start_time": "2025-03-21T06:33:30.384196Z"
    }
   },
   "cell_type": "code",
   "source": "text_str = \"hw1_data.txt\"",
   "id": "68d3c4e479cef82d",
   "outputs": [],
   "execution_count": 5
  },
  {
   "metadata": {
    "ExecuteTime": {
     "end_time": "2025-03-21T07:40:19.124017Z",
     "start_time": "2025-03-21T07:40:18.957698Z"
    }
   },
   "cell_type": "code",
   "source": [
    "print(\"10 longest words are: \")\n",
    "print(get_longest_diverse_words(text_str))\n",
    "\n",
    "print(\"\\nRarest char is: \" + get_rarest_char(text_str))\n",
    "print(\"Amount of punctuational chars is: \" + str(count_punctuation_chars(text_str)))\n",
    "print(\"Amount of non ascii chars is: \" + str(count_non_ascii_chars(text_str)))\n",
    "print(\"The most common non ascii char is: \" + str(get_most_common_non_ascii_char(text_str)))"
   ],
   "id": "6640c10e140cd5de",
   "outputs": [
    {
     "name": "stdout",
     "output_type": "stream",
     "text": [
      "10 longest words are: \n",
      "['unmi\\\\u00dfverst\\\\u00e4ndliche', 'Wiederbelebungs\\\\u00fcbungen', '\\\\u00bbWaldg\\\\u00e4nger\\\\u00ab', 'Meinungs\\\\u00e4u\\\\u00dferung', 'Werkst\\\\u00e4ttenlandschaft', 'unver\\\\u00e4u\\\\u00dferlichen', '\\\\u00bbFreiheitswahl\\\\u00ab', 'vernunftgem\\\\u00e4\\\\u00dfe\\n', 'Souver\\\\u00e4nit\\\\u00e4tsan', 'D\\\\u00e4monenschw\\\\u00e4rme']\n",
      "\n",
      "Rarest char is: Y\n",
      "Amount of punctuational chars is: 5300\n",
      "Amount of non ascii chars is: 2888\n",
      "The most common non ascii char is: \\u00e4\n"
     ]
    }
   ],
   "execution_count": 87
  }
 ],
 "metadata": {
  "kernelspec": {
   "display_name": "Python 3",
   "language": "python",
   "name": "python3"
  },
  "language_info": {
   "codemirror_mode": {
    "name": "ipython",
    "version": 2
   },
   "file_extension": ".py",
   "mimetype": "text/x-python",
   "name": "python",
   "nbconvert_exporter": "python",
   "pygments_lexer": "ipython2",
   "version": "2.7.6"
  }
 },
 "nbformat": 4,
 "nbformat_minor": 5
}
