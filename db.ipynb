{
 "cells": [
  {
   "metadata": {},
   "cell_type": "markdown",
   "source": [
    "Preamble\n",
    "========\n",
    "\n",
    "We have a database file (example.sqlite) in sqlite3 format with some tables and data. All tables have 'name' column and maybe some additional ones.\n",
    "\n",
    "Data retrieval and modifications are done with sqlite3 module by issuing SQL statements.\n",
    "For example, to get all data from TABLE1::\n",
    "\n",
    "    import sqlite3\n",
    "    conn = sqlite3.connect('example.db')\n",
    "    cursor = conn.cursor()\n",
    "    cursor.execute('SELECT * from TABLE1')\n",
    "    data = cursor.fetchall()   # will be a list with data.\n",
    "\n",
    "instead of getting all data at once, you can use .fetchone() calls and named expressions::\n",
    "\n",
    "    while row:=cursor.fetchone():\n",
    "        print(row)\n",
    "\n",
    "To get a row with specific name equal to some value::\n",
    "\n",
    "    import sqlite3\n",
    "    conn = sqlite3.connect('example.db')\n",
    "    cursor = conn.cursor()\n",
    "    cursor.execute('SELECT * from presidents where name=:name', {name:'Yeltsin'})\n",
    "    data = cursor.fetchall()  # will get all records with this name. You can also use .fetchone() to get one record.\n",
    "\n",
    "in order to get record with first name (sorted alphabetically) use SQL expression `SELECT * from presidents order by name asc limit 1`\n",
    "in order to get record after specified (sorted alphabetically) use SQL expression `SELECT * from presidents where name > :name order by name limit`.\n",
    "To get amount of records in table TABLE1, use `select count(*) from TABLE1` query.\n",
    "\n",
    "\n",
    "Please refer to this documents for more information about how to retrieve data from sqlite database:\n",
    "DBAPI: https://www.python.org/dev/peps/pep-0249/\n",
    "sqlite3 module: https://docs.python.org/3/library/sqlite3.html"
   ],
   "id": "8644d1e41d76fa41"
  },
  {
   "metadata": {},
   "cell_type": "markdown",
   "source": [
    "Task\n",
    "====\n",
    "\n",
    "Write a wrapper class TableData for database table, that when initialized with database name and table acts as collection object (implements Collection protocol).\n",
    "Assume all data has unique values in 'name' column.\n",
    "So, if presidents = TableData(database_name='example.sqlite', table_name='presidents')\n",
    "\n",
    "then\n",
    " -  `len(presidents)` will give current amount of rows in presidents table in database\n",
    " -  `presidents['Yeltsin']` should return single data row for president with name Yeltsin\n",
    " -  `'Yeltsin' in presidents` should return if president with same name exists in table\n",
    " -  object implements iteration protocol. i.e. you could use it in for loops::\n",
    "       for president in presidents:\n",
    "           print(president['name'])\n",
    " - all above mentioned calls should reflect most recent data. If data in table changed after you created collection instance, your calls should return updated data.\n",
    "\n",
    "Avoid reading entire table into memory. When iterating through records, start reading the first record, then go to the next one, until records are exhausted.\n",
    "When writing tests, it's not always neccessary to mock database calls completely. Use supplied example.sqlite file as database fixture file."
   ],
   "id": "65f0c026fad28a1f"
  },
  {
   "metadata": {
    "ExecuteTime": {
     "end_time": "2025-03-21T09:57:27.803779Z",
     "start_time": "2025-03-21T09:57:27.789768Z"
    }
   },
   "cell_type": "code",
   "source": [
    "#https://docs.python.org/3/library/collections.abc.html\n",
    "from collections.abc import Collection\n",
    "class TableData(Collection):\n",
    "    def __init__(self, database_name: str, table_name: str):\n",
    "        self.database_name = database_name\n",
    "        self.table_name = table_name\n",
    "    \n",
    "    def __contains__(self, item):\n",
    "        \n",
    "    \n",
    "    def __len__(self) -> int:\n",
    "        conn = sqlite3.connect('example.sqlite')\n",
    "        cursor = conn.cursor()\n",
    "        cursor.execute(\"SELECT count(*) FROM ?;\", self.table_name)\n",
    "        data = cursor.fetchall()\n",
    "        print(data)"
   ],
   "id": "1aba15c223b5ac35",
   "outputs": [],
   "execution_count": 25
  },
  {
   "metadata": {
    "ExecuteTime": {
     "end_time": "2025-03-21T09:58:00.791890Z",
     "start_time": "2025-03-21T09:58:00.729894Z"
    }
   },
   "cell_type": "code",
   "source": "tb = TableData('example.sqlite', 'presidents')",
   "id": "114bd57d3437334c",
   "outputs": [
    {
     "ename": "TypeError",
     "evalue": "Can't instantiate abstract class TableData with abstract methods __contains__, __iter__",
     "output_type": "error",
     "traceback": [
      "\u001B[1;31m---------------------------------------------------------------------------\u001B[0m",
      "\u001B[1;31mTypeError\u001B[0m                                 Traceback (most recent call last)",
      "Cell \u001B[1;32mIn[26], line 1\u001B[0m\n\u001B[1;32m----> 1\u001B[0m tb \u001B[38;5;241m=\u001B[39m \u001B[43mTableData\u001B[49m\u001B[43m(\u001B[49m\u001B[38;5;124;43m'\u001B[39;49m\u001B[38;5;124;43mexample.sqlite\u001B[39;49m\u001B[38;5;124;43m'\u001B[39;49m\u001B[43m,\u001B[49m\u001B[43m \u001B[49m\u001B[38;5;124;43m'\u001B[39;49m\u001B[38;5;124;43mpresidents\u001B[39;49m\u001B[38;5;124;43m'\u001B[39;49m\u001B[43m)\u001B[49m\n",
      "\u001B[1;31mTypeError\u001B[0m: Can't instantiate abstract class TableData with abstract methods __contains__, __iter__"
     ]
    }
   ],
   "execution_count": 26
  },
  {
   "cell_type": "code",
   "id": "initial_id",
   "metadata": {
    "collapsed": true,
    "ExecuteTime": {
     "end_time": "2025-03-21T08:07:32.592647Z",
     "start_time": "2025-03-21T08:07:32.585641Z"
    }
   },
   "source": [
    "import sqlite3\n",
    "conn = sqlite3.connect('example.sqlite')\n",
    "cursor = conn.cursor()\n",
    "\n",
    "cursor.execute(\"SELECT name FROM sqlite_master WHERE type='table' ORDER BY name;\")\n",
    "data = cursor.fetchall()\n",
    "for x in data:\n",
    "    print(x)"
   ],
   "outputs": [
    {
     "name": "stdout",
     "output_type": "stream",
     "text": [
      "('books',)\n",
      "('presidents',)\n"
     ]
    }
   ],
   "execution_count": 20
  },
  {
   "metadata": {
    "ExecuteTime": {
     "end_time": "2025-03-21T08:02:31.340026Z",
     "start_time": "2025-03-21T08:02:31.330965Z"
    }
   },
   "cell_type": "code",
   "source": [
    "cursor.execute(\"SELECT * FROM books;\")\n",
    "data = cursor.fetchall()\n",
    "for x in data:\n",
    "    print(x)\n",
    "    \n",
    "print('*'*20)\n",
    "\n",
    "cursor.execute(\"SELECT * FROM presidents;\")\n",
    "data = cursor.fetchall()\n",
    "for x in data:\n",
    "    print(x)"
   ],
   "id": "2c5d3b9509e31a24",
   "outputs": [
    {
     "name": "stdout",
     "output_type": "stream",
     "text": [
      "('Farenheit 451', 'Bradbury')\n",
      "('Brave New World', 'Huxley')\n",
      "('1984', 'Orwell')\n",
      "********************\n",
      "('Yeltsin', 999, 'Russia')\n",
      "('Trump', 1337, 'US')\n",
      "('Big Man Tyrone', 101, 'Kekistan')\n"
     ]
    }
   ],
   "execution_count": 16
  }
 ],
 "metadata": {
  "kernelspec": {
   "display_name": "Python 3",
   "language": "python",
   "name": "python3"
  },
  "language_info": {
   "codemirror_mode": {
    "name": "ipython",
    "version": 2
   },
   "file_extension": ".py",
   "mimetype": "text/x-python",
   "name": "python",
   "nbconvert_exporter": "python",
   "pygments_lexer": "ipython2",
   "version": "2.7.6"
  }
 },
 "nbformat": 4,
 "nbformat_minor": 5
}
